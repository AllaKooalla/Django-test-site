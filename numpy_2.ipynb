{
  "cells": [
    {
      "cell_type": "markdown",
      "metadata": {
        "id": "view-in-github",
        "colab_type": "text"
      },
      "source": [
        "<a href=\"https://colab.research.google.com/github/AllaKooalla/Django-test-site/blob/master/numpy_2.ipynb\" target=\"_parent\"><img src=\"https://colab.research.google.com/assets/colab-badge.svg\" alt=\"Open In Colab\"/></a>"
      ]
    },
    {
      "cell_type": "code",
      "execution_count": 1,
      "metadata": {
        "id": "2YAfgfnkFCaT"
      },
      "outputs": [],
      "source": [
        "import numpy as np\n"
      ]
    },
    {
      "cell_type": "markdown",
      "metadata": {
        "id": "Wt8lo5vCFCaY"
      },
      "source": [
        "# Домашнее задание на повторение numpy\n",
        "В задании все пункты необходимо выполнить с помощью numpy, без использования циклов/map/и тд! \n",
        "\n",
        "\n",
        "### История\n",
        "\n",
        "В конце каждого семестра каждый семинарист сталкивается с необходимостью выставить студентам накопленную в семестре оценку. Часто семинаристы делают это с помощью Excel или GoogleSheets, но поверьте, с этим возникают проблемы. В задании вам надо помочь семинаристу некоторого курса выполнить эту непростую работу с помощью numpy :)\n",
        "\n",
        "Выполните ячейку ниже, чтобы загрузить данные и визуально проверить корректность их считывания.\n",
        "\n",
        "По строкам - студенты, по столбцам - их оценки. В курсе семинарист провел три проверочных (первые три колонки), выдал три домашних работы (следующие три колонки), кроме того, у студентов есть оценка за коллоквиум (последняя колонка)."
      ]
    },
    {
      "cell_type": "code",
      "execution_count": 2,
      "metadata": {
        "id": "wYngB8QLFCac"
      },
      "outputs": [],
      "source": [
        "marks = np.loadtxt(\"https://raw.githubusercontent.com/nadiinchi/iad2019/master/materials/data_hw1.txt\")"
      ]
    },
    {
      "cell_type": "code",
      "execution_count": 3,
      "metadata": {
        "colab": {
          "base_uri": "https://localhost:8080/"
        },
        "id": "owLn1ozDFCad",
        "outputId": "45a9f52a-a8c5-47c8-e7c8-291e783f8eb4"
      },
      "outputs": [
        {
          "output_type": "execute_result",
          "data": {
            "text/plain": [
              "array([[ 7. ,  8. , 10. ,  0. ,  0. ,  2.1,  1.5],\n",
              "       [ 0. ,  6. ,  4.4,  4. ,  0. ,  5. ,  4.3],\n",
              "       [ 3. ,  7. ,  8.7,  7.6,  7. ,  9.7, 10. ]])"
            ]
          },
          "metadata": {},
          "execution_count": 3
        }
      ],
      "source": [
        "marks[:3]"
      ]
    },
    {
      "cell_type": "markdown",
      "metadata": {
        "id": "z4kNOFYdFCaf"
      },
      "source": [
        "### Число студентов (1 балл)\n",
        "Сколько студентов в группе семинариста?"
      ]
    },
    {
      "cell_type": "code",
      "execution_count": 7,
      "metadata": {
        "collapsed": true,
        "id": "AAA4y4WaFCag"
      },
      "outputs": [],
      "source": [
        "# Записать ответ в переменную num_studs\n",
        "num_studs = marks.shape\n",
        "rows, columns = marks.shape"
      ]
    },
    {
      "cell_type": "code",
      "execution_count": 9,
      "metadata": {
        "collapsed": true,
        "colab": {
          "base_uri": "https://localhost:8080/"
        },
        "id": "hvWx6rWxFCah",
        "outputId": "0cca1959-7114-476a-8623-95f3956895de"
      },
      "outputs": [
        {
          "output_type": "stream",
          "name": "stdout",
          "text": [
            "(28, 7)\n",
            "Students =  28\n"
          ]
        }
      ],
      "source": [
        "print(num_studs)\n",
        "print('Students = ', rows)"
      ]
    },
    {
      "cell_type": "markdown",
      "metadata": {
        "id": "R-xKgwJiFCah"
      },
      "source": [
        "### Очень сложная проверочная, или просто добрый семинарист (1.5 балла)\n",
        "Семинарист помнит, что первая проверочная получилась очень сложной, и максимальный балл в группе был далеко не 10. Поэтому он решил перенормировать баллы за эту проверочную на максимум по группе (поделить на максимум и умножить на 10) - чтобы у студента с максимальной оценкой получилось 10, а у остальных - просто оценка больше."
      ]
    },
    {
      "cell_type": "markdown",
      "metadata": {
        "id": "IsuxkWrCFCai"
      },
      "source": [
        "Каков максимальный балл за первую проверочную?"
      ]
    },
    {
      "cell_type": "code",
      "execution_count": null,
      "metadata": {
        "collapsed": true,
        "id": "x20rDW3rFCai"
      },
      "outputs": [],
      "source": [
        "# Записать ответ в переменную max_mark\n",
        "max_mark = "
      ]
    },
    {
      "cell_type": "code",
      "execution_count": null,
      "metadata": {
        "collapsed": true,
        "id": "R8CuaD9bFCaj"
      },
      "outputs": [],
      "source": [
        "print(max_mark)"
      ]
    },
    {
      "cell_type": "markdown",
      "metadata": {
        "id": "r1zxb7fUFCak"
      },
      "source": [
        "Разделите первый столбец на max_mark (для этого надо выделить столбец, поставить после соответствующего выражения знак = и присвоить новое значение столбца)"
      ]
    },
    {
      "cell_type": "code",
      "execution_count": null,
      "metadata": {
        "collapsed": true,
        "id": "Hev4GlBPFCak"
      },
      "outputs": [],
      "source": [
        ""
      ]
    },
    {
      "cell_type": "code",
      "execution_count": null,
      "metadata": {
        "collapsed": true,
        "id": "bCSLjuAwFCal"
      },
      "outputs": [],
      "source": [
        ""
      ]
    },
    {
      "cell_type": "code",
      "execution_count": null,
      "metadata": {
        "collapsed": true,
        "id": "QSPKTD3EFCal"
      },
      "outputs": [],
      "source": [
        ""
      ]
    },
    {
      "cell_type": "markdown",
      "metadata": {
        "id": "Kp1MX0zNFCal"
      },
      "source": [
        "### Подсчет накопленной оценки (1.5 балла)\n",
        "Для вычисления накопленной надо посчитать средние оценки за проверочные для каждого студента и средние за домашние работы (может пригодиться np.mean). Накопленная оценка есть 0.3\\*Проверочные + 0.4\\*Домашние + 0.3\\*Коллоквиум. Вычислите накопленные оценки и добавьте их в последний столбец матрицы (нужно добавить еще один новый столбец)."
      ]
    },
    {
      "cell_type": "code",
      "execution_count": null,
      "metadata": {
        "collapsed": true,
        "id": "L2LJYYO3FCam"
      },
      "outputs": [],
      "source": [
        "# Веса следует брать из переменной weights, а не вписывать вручную\n",
        "weights = [0.3, 0.4, 0.3]"
      ]
    },
    {
      "cell_type": "code",
      "execution_count": null,
      "metadata": {
        "collapsed": true,
        "id": "rBUv9B8HFCan"
      },
      "outputs": [],
      "source": [
        ""
      ]
    },
    {
      "cell_type": "code",
      "execution_count": null,
      "metadata": {
        "collapsed": true,
        "id": "kwjszSGvFCan"
      },
      "outputs": [],
      "source": [
        ""
      ]
    },
    {
      "cell_type": "code",
      "execution_count": null,
      "metadata": {
        "collapsed": true,
        "id": "JO05WtAiFCan"
      },
      "outputs": [],
      "source": [
        ""
      ]
    },
    {
      "cell_type": "markdown",
      "metadata": {
        "id": "Ukq-cn-VFCao"
      },
      "source": [
        "### Студенты, которых, вероятно, отчислят (1.5 балла)"
      ]
    },
    {
      "cell_type": "markdown",
      "metadata": {
        "id": "bQvgwAMyFCao"
      },
      "source": [
        "Сколько в группе студентов с накопленной оценкой 0? Вам может понадобиться тот факт, что применение np.sum к бинарному вектору дает число значений True в нем, например:"
      ]
    },
    {
      "cell_type": "code",
      "execution_count": null,
      "metadata": {
        "id": "6RvqK4K6FCap",
        "outputId": "904f37cb-c66b-4cce-854a-c00052452ee8"
      },
      "outputs": [
        {
          "data": {
            "text/plain": [
              "2"
            ]
          },
          "execution_count": 35,
          "metadata": {},
          "output_type": "execute_result"
        }
      ],
      "source": [
        "np.sum([True, False, True]) # 2 значения True"
      ]
    },
    {
      "cell_type": "markdown",
      "metadata": {
        "collapsed": true,
        "id": "-y1fJNf7FCap"
      },
      "source": [
        "Также обратим внимание на операцию поэлементного сравнения, возвращающую массив из True и False:"
      ]
    },
    {
      "cell_type": "code",
      "execution_count": null,
      "metadata": {
        "id": "tkGY3LSqFCaq",
        "outputId": "eecdefe9-9d9f-4b33-ccc8-16697f7ac537"
      },
      "outputs": [
        {
          "name": "stdout",
          "output_type": "stream",
          "text": [
            "[False False  True]\n",
            "[False False False]\n"
          ]
        }
      ],
      "source": [
        "a = np.array([1, 2, 3])\n",
        "b = np.array([2, 3, 3])\n",
        "print(a == b)\n",
        "print(a > b)"
      ]
    },
    {
      "cell_type": "code",
      "execution_count": null,
      "metadata": {
        "collapsed": true,
        "id": "nGd1kOZ9FCar"
      },
      "outputs": [],
      "source": [
        ""
      ]
    },
    {
      "cell_type": "code",
      "execution_count": null,
      "metadata": {
        "collapsed": true,
        "id": "jWB82MXLFCar"
      },
      "outputs": [],
      "source": [
        ""
      ]
    },
    {
      "cell_type": "code",
      "execution_count": null,
      "metadata": {
        "collapsed": true,
        "id": "H2yunB6vFCar"
      },
      "outputs": [],
      "source": [
        ""
      ]
    },
    {
      "cell_type": "markdown",
      "metadata": {
        "id": "q187an6LFCas"
      },
      "source": [
        "### Студенты, которые получат автоматы (1.5 балла)\n",
        "Автомат получат студенты, у которых накопленная оценка больше 7. Добавьте еще один столбец - в нем стоит 1, если студент получает автомат, и 0 иначе."
      ]
    },
    {
      "cell_type": "code",
      "execution_count": null,
      "metadata": {
        "collapsed": true,
        "id": "xMPUHX95FCas"
      },
      "outputs": [],
      "source": [
        ""
      ]
    },
    {
      "cell_type": "code",
      "execution_count": null,
      "metadata": {
        "collapsed": true,
        "id": "81WcbjuTFCat"
      },
      "outputs": [],
      "source": [
        ""
      ]
    },
    {
      "cell_type": "code",
      "execution_count": null,
      "metadata": {
        "collapsed": true,
        "id": "vrDP7AoNFCat"
      },
      "outputs": [],
      "source": [
        ""
      ]
    },
    {
      "cell_type": "markdown",
      "metadata": {
        "id": "bh12pcqJFCat"
      },
      "source": [
        "### Студенты, которые будут освобождены от задач на экзамене (1.5 балла)\n",
        "Семинарист решил, что первая половина группы в рейтинге по накопленной оценке будет освобождена от решения задач на экзамене. Выделите этих студентов в отдельный массив. Для этого надо отсортировать строки массива (np.argsort) и взять первую половину."
      ]
    },
    {
      "cell_type": "code",
      "execution_count": null,
      "metadata": {
        "collapsed": true,
        "id": "e2jXHXsdFCau"
      },
      "outputs": [],
      "source": [
        ""
      ]
    },
    {
      "cell_type": "code",
      "execution_count": null,
      "metadata": {
        "collapsed": true,
        "id": "_x-hbnK8FCau"
      },
      "outputs": [],
      "source": [
        ""
      ]
    },
    {
      "cell_type": "code",
      "execution_count": null,
      "metadata": {
        "collapsed": true,
        "id": "_V8Kg2LWFCau"
      },
      "outputs": [],
      "source": [
        ""
      ]
    },
    {
      "cell_type": "markdown",
      "metadata": {
        "id": "dY9M6LHNFCav"
      },
      "source": [
        "### Сложность заданий (1.5 балла)\n",
        "Наконец, семинарист хочет оценить сложность заданий, проверочных и коллоквиума по своей особой системе. Он присвоил каждому студенту вес (веса суммируются в 1) и хочет посчитать для каждого задания, проверочной и коллоквиума среднюю оценку с весами.\n",
        "Пример, что имеется в виду: если есть 4 студента с весами [0.1, 0.2, 0.3, 0.4] и оценками [3, 7, 9, 10], то средняя оценка за задание с весами получится "
      ]
    },
    {
      "cell_type": "code",
      "execution_count": null,
      "metadata": {
        "id": "n0oc89SFFCav",
        "outputId": "bf66aa42-655b-4ece-931a-9c3cc950a0d5"
      },
      "outputs": [
        {
          "data": {
            "text/plain": [
              "8.4"
            ]
          },
          "execution_count": 37,
          "metadata": {},
          "output_type": "execute_result"
        }
      ],
      "source": [
        "0.1 * 3 + 0.2 * 7 + 0.3 * 9 + 0.4 * 10 "
      ]
    },
    {
      "cell_type": "markdown",
      "metadata": {
        "id": "jU60UdrjFCaw"
      },
      "source": [
        "Веса:"
      ]
    },
    {
      "cell_type": "code",
      "execution_count": null,
      "metadata": {
        "collapsed": true,
        "id": "xCjAdLqEFCax"
      },
      "outputs": [],
      "source": [
        "weights = np.array([1.]*7+[2.]*4+[3.]*7+[4.]*(marks.shape[0]-18))\n",
        "# разделите веса на их сумму, чтобы они суммировались к 1\n",
        "weights = "
      ]
    },
    {
      "cell_type": "markdown",
      "metadata": {
        "id": "BUL01wAQFCax"
      },
      "source": [
        "Посчитайте указанным образом сложность каждого \"столбца\"."
      ]
    },
    {
      "cell_type": "code",
      "execution_count": null,
      "metadata": {
        "collapsed": true,
        "id": "BSZWU-1SFCax"
      },
      "outputs": [],
      "source": [
        ""
      ]
    },
    {
      "cell_type": "code",
      "execution_count": null,
      "metadata": {
        "collapsed": true,
        "id": "7wdic_tdFCay"
      },
      "outputs": [],
      "source": [
        ""
      ]
    },
    {
      "cell_type": "code",
      "execution_count": null,
      "metadata": {
        "collapsed": true,
        "id": "zxl-8jQNFCay"
      },
      "outputs": [],
      "source": [
        ""
      ]
    }
  ],
  "metadata": {
    "kernelspec": {
      "display_name": "Python 3",
      "language": "python",
      "name": "python3"
    },
    "language_info": {
      "codemirror_mode": {
        "name": "ipython",
        "version": 3
      },
      "file_extension": ".py",
      "mimetype": "text/x-python",
      "name": "python",
      "nbconvert_exporter": "python",
      "pygments_lexer": "ipython3",
      "version": "3.8.5"
    },
    "colab": {
      "name": "numpy_2.ipynb",
      "provenance": [],
      "include_colab_link": true
    }
  },
  "nbformat": 4,
  "nbformat_minor": 0
}